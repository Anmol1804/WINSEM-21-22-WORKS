{
 "cells": [
  {
   "cell_type": "code",
   "execution_count": 3,
   "id": "ff910254",
   "metadata": {},
   "outputs": [
    {
     "name": "stdout",
     "output_type": "stream",
     "text": [
      "The golomb code encoding for x = 9 and b = 4 is 00101\n"
     ]
    }
   ],
   "source": [
    "import math\n",
    "\n",
    "N = 9\n",
    "M = 4\n",
    "\n",
    "q = N//M\n",
    "r = N % M\n",
    "\n",
    "quo ='0'*q+'1'\n",
    "\n",
    "b = math.floor(math.log2(M))\n",
    "k = 2**(b + 1)-M\n",
    "\n",
    "if r < k:\n",
    "    rem = bin(r)[2:]\n",
    "    l = len(rem)\n",
    "    \n",
    "    if l<b:\n",
    "        rem = '0'*(b-l)+rem\n",
    "else:\n",
    "    rem = bin(r + k)[2:]\n",
    "    l = len(rem)\n",
    "    if l<b + 1:\n",
    "        rem = '0'*(b + 1-l)+rem\n",
    "golomb_code = quo + rem\n",
    "print(\"The golomb code encoding for x = {} and b = {} is {}\". format(N, M, golomb_code))\n"
   ]
  },
  {
   "cell_type": "code",
   "execution_count": 4,
   "id": "365bebf5",
   "metadata": {},
   "outputs": [
    {
     "name": "stdout",
     "output_type": "stream",
     "text": [
      "9.0\n"
     ]
    }
   ],
   "source": [
    "import math\n",
    "\n",
    "def decode(x):\n",
    "    num=0;\n",
    "    for i in range(len(x)):\n",
    "        num+=(int(x[len(x)-1-i])*(math.pow(2,i)));\n",
    "    return num;\n",
    "\n",
    "\n",
    "\n",
    "x= '00101'\n",
    "x=list(x)\n",
    "b=4\n",
    "i=math.floor(math.log(b,2))\n",
    "d=math.pow(2,i+1)-b\n",
    "\n",
    "\n",
    "p2=0;\n",
    "l=1;\n",
    "while(p2<len(x)):\n",
    "    t=0;\n",
    "    flag=0;\n",
    "    r=[];\n",
    "    k=i;\n",
    "    q=0;\n",
    "    for p in range(p2,len(x)):\n",
    "        if(x[p]=='0' and flag==0):\n",
    "            t+=1;\n",
    "            continue;\n",
    "        if(x[p]=='1' and flag==0):\n",
    "            q=t;\n",
    "            flag=1;\n",
    "            continue;\n",
    "        r.append(x[p]);\n",
    "        k-=1;\n",
    "        if(k==0):\n",
    "            rnum=decode(r);\n",
    "            if(rnum<d):\n",
    "                p2=p+1;\n",
    "                break;\n",
    "        if(k==-1):\n",
    "            rnum=decode(r);\n",
    "            rnum=rnum-d;\n",
    "            p2=p+1;\n",
    "            break;\n",
    "    ans=q*b+rnum;\n",
    "    print(ans);\n",
    "    l=0;\n",
    "    \n",
    "    "
   ]
  },
  {
   "cell_type": "code",
   "execution_count": 10,
   "id": "7873ed31",
   "metadata": {},
   "outputs": [
    {
     "data": {
      "text/plain": [
       "9.0"
      ]
     },
     "execution_count": 10,
     "metadata": {},
     "output_type": "execute_result"
    }
   ],
   "source": [
    "def decode(x):\n",
    "    num=0;\n",
    "    for i in range(len(x)):\n",
    "        num+=(int(x[len(x)-1-i])*(math.pow(2,i)));\n",
    "    return num;\n",
    "\n",
    "decode('1001')"
   ]
  },
  {
   "cell_type": "code",
   "execution_count": null,
   "id": "4758d4e8",
   "metadata": {},
   "outputs": [],
   "source": []
  }
 ],
 "metadata": {
  "kernelspec": {
   "display_name": "Python 3",
   "language": "python",
   "name": "python3"
  },
  "language_info": {
   "codemirror_mode": {
    "name": "ipython",
    "version": 3
   },
   "file_extension": ".py",
   "mimetype": "text/x-python",
   "name": "python",
   "nbconvert_exporter": "python",
   "pygments_lexer": "ipython3",
   "version": "3.9.2"
  }
 },
 "nbformat": 4,
 "nbformat_minor": 5
}
