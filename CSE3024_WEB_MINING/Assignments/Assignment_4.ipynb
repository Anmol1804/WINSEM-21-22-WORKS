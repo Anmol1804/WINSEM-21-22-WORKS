{
 "cells": [
  {
   "cell_type": "code",
   "execution_count": 1,
   "id": "1328cbf4",
   "metadata": {},
   "outputs": [
    {
     "name": "stdout",
     "output_type": "stream",
     "text": [
      "\n",
      "idf values:\n",
      "university : 1.6931471805599454\n",
      "vellore : 1.6931471805599454\n",
      "vit : 1.2876820724517808\n",
      "web : 1.6931471805599454\n",
      "\n",
      "Word indexes:\n",
      "{'vit': 2, 'vellore': 1, 'university': 0, 'web': 3}\n",
      "\n",
      "tf-idf value:\n",
      "  (0, 0)\t0.6227660078332259\n",
      "  (0, 1)\t0.6227660078332259\n",
      "  (0, 2)\t0.4736296010332684\n",
      "  (1, 2)\t1.0\n",
      "  (2, 3)\t1.0\n",
      "\n",
      "tf-idf values in matrix form:\n",
      "[[0.62276601 0.62276601 0.4736296  0.        ]\n",
      " [0.         0.         1.         0.        ]\n",
      " [0.         0.         0.         1.        ]]\n"
     ]
    }
   ],
   "source": [
    "# importing modules\n",
    "from sklearn.feature_extraction.text import TfidfVectorizer\n",
    "\n",
    "# Defining docs\n",
    "d0 = 'VIT Vellore University'\n",
    "d1 = 'VIT'\n",
    "d2 = 'Web'\n",
    "\n",
    "string = [d0, d1, d2]\n",
    "tfidf = TfidfVectorizer()\n",
    "result = tfidf.fit_transform(string)\n",
    "\n",
    "print('\\nidf values:')\n",
    "for ele1, ele2 in zip(tfidf.get_feature_names(), tfidf.idf_):\n",
    "    print(ele1, ':', ele2)\n",
    "\n",
    "print('\\nWord indexes:')\n",
    "print(tfidf.vocabulary_)\n",
    "\n",
    "print('\\ntf-idf value:')\n",
    "print(result)\n",
    "\n",
    "print('\\ntf-idf values in matrix form:')\n",
    "print(result.toarray())\n"
   ]
  },
  {
   "cell_type": "code",
   "execution_count": 2,
   "id": "03eccd0f",
   "metadata": {},
   "outputs": [
    {
     "name": "stdout",
     "output_type": "stream",
     "text": [
      "00100010\n"
     ]
    }
   ],
   "source": [
    "from math import log\n",
    "from math import floor\n",
    "\n",
    "def Binary_Representation_Without_MSB(x):\n",
    "    binary = \"{0:b}\".format(int(x))\n",
    "    binary_without_MSB = binary[1:]\n",
    "    return binary_without_MSB\n",
    "\n",
    "def EliasGammaEncode(k):\n",
    "    if (k == 0):\n",
    "        return '0'\n",
    "    N = 1 + floor(log(k, 2))\n",
    "    Unary = (N-1)*'0'+'1'\n",
    "    return Unary + Binary_Representation_Without_MSB(k)\n",
    "\n",
    "def elias_delta_encoding(x):\n",
    "    Gamma = EliasGammaEncode(1 + floor(log(k, 2)))\n",
    "    binary_without_MSB = Binary_Representation_Without_MSB(k)\n",
    "    return Gamma+binary_without_MSB\n",
    "\n",
    "k = 10\n",
    "print(elias_delta_encoding(k))\n"
   ]
  },
  {
   "cell_type": "code",
   "execution_count": 3,
   "id": "669f436b",
   "metadata": {},
   "outputs": [
    {
     "name": "stdout",
     "output_type": "stream",
     "text": [
      "10\n"
     ]
    }
   ],
   "source": [
    "import math\n",
    "\n",
    "\n",
    "def elias_delta_decoding(x):\n",
    "    x = list(x)\n",
    "    L = 0\n",
    "    while True:\n",
    "        if not x[L] == '0':\n",
    "            break\n",
    "        L = L + 1\n",
    "    \n",
    "    # Reading L more bits and dropping ALL\n",
    "    x = x[2*L+1:]\n",
    "\n",
    "    # Prepending with 1 in MSB\n",
    "    x.insert(0, '1')\n",
    "    x.reverse()\n",
    "\n",
    "    n = 0\n",
    "\n",
    "    # Converting binary to integer\n",
    "    for i in range(len(x)):\n",
    "        if x[i] == '1':\n",
    "            n = n+math.pow(2, i)\n",
    "    return int(n)\n",
    "\n",
    "\n",
    "x = '00100010'\n",
    "print(elias_delta_decoding(x))\n"
   ]
  },
  {
   "cell_type": "code",
   "execution_count": 5,
   "id": "d5277514",
   "metadata": {},
   "outputs": [
    {
     "name": "stdout",
     "output_type": "stream",
     "text": [
      "00100010\n"
     ]
    }
   ],
   "source": [
    "# delta coding\n",
    "from math import log\n",
    "\n",
    "def delta_encoding(num):\n",
    "    n = 1 + int(log(num,2))\n",
    "\n",
    "    # gamma for x (selector)\n",
    "    x = str(bin(n).replace(\"0b\", \"\"))\n",
    "    zeroes = len(x) - 1\n",
    "    gamma_encode = \"0\"*zeroes + x\n",
    "\n",
    "    # offset\n",
    "    num_bin = str(bin(num).replace(\"0b\", \"\"))\n",
    "    offset = num_bin[1:]\n",
    "\n",
    "    delta_encode = gamma_encode + offset\n",
    "    return delta_encode\n",
    "\n",
    "print(delta_encoding(10))"
   ]
  },
  {
   "cell_type": "code",
   "execution_count": null,
   "id": "ad76d137",
   "metadata": {},
   "outputs": [],
   "source": [
    "import math\n",
    "\n",
    "def bin_val(x):\n",
    "    return int(x,2)\n",
    "\n",
    "def Elias_Delta_Decoding(x):\n",
    "    L = 0\n",
    "    while True:\n",
    "        if not x[L] == '0':\n",
    "            break\n",
    "        L = L + 1\n",
    "    \n",
    "    l_bits = x[L:2*L+1]\n",
    "    l_bits_value = bin_val(l_bits)\n",
    "    \n",
    "    lsb_bits = \"1\" + x[-1*(l_bits_value-1):]\n",
    "    \n",
    "    return bin_val(lsb_bits)\n",
    "\n",
    "\n",
    "x = '0100'\n",
    "print(Elias_Delta_Decoding(x))\n"
   ]
  }
 ],
 "metadata": {
  "kernelspec": {
   "display_name": "Python 3",
   "language": "python",
   "name": "python3"
  },
  "language_info": {
   "codemirror_mode": {
    "name": "ipython",
    "version": 3
   },
   "file_extension": ".py",
   "mimetype": "text/x-python",
   "name": "python",
   "nbconvert_exporter": "python",
   "pygments_lexer": "ipython3",
   "version": "3.9.2"
  }
 },
 "nbformat": 4,
 "nbformat_minor": 5
}
