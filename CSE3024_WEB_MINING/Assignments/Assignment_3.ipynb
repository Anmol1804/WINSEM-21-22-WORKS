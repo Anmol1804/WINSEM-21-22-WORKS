{
 "cells": [
  {
   "cell_type": "markdown",
   "id": "16cac648",
   "metadata": {},
   "source": [
    "# METHOD - 1"
   ]
  },
  {
   "cell_type": "code",
   "execution_count": 1,
   "id": "763560e1",
   "metadata": {},
   "outputs": [],
   "source": [
    "from math import log\n",
    "\n",
    "def unary(x):\n",
    "    return (x-1)*'0'+'1'\n",
    "\n",
    "def binary(x, l = 1):\n",
    "    s = '{0:0%db}' % l\n",
    "    return s.format(x)\n",
    "    \n",
    "def elias_gamma_encode(x):\n",
    "    if(x == 0):\n",
    "        return '0'\n",
    "\n",
    "    n = 1 + int(log(x,2))\n",
    "    b = x - 2**(int(log(x,2)))\n",
    "\n",
    "    l = int(log(x,2))\n",
    "\n",
    "    return unary(n) + binary(b, l)"
   ]
  },
  {
   "cell_type": "code",
   "execution_count": 2,
   "id": "e2cc2a0e",
   "metadata": {},
   "outputs": [],
   "source": [
    "import math\n",
    "\n",
    "def elias_gamma_decode(x):\n",
    "    K = 0\n",
    "    while True:\n",
    "        if not x[K] == '0':\n",
    "            break\n",
    "        K = K + 1\n",
    "\n",
    "    # Reading K more bits from '1'\n",
    "    x = x[K:2*K+1]\n",
    "\n",
    "    n = int(str(x), 2)\n",
    "\n",
    "    return int(n)\n"
   ]
  },
  {
   "cell_type": "code",
   "execution_count": 3,
   "id": "d6ebbbe4",
   "metadata": {},
   "outputs": [
    {
     "name": "stdout",
     "output_type": "stream",
     "text": [
      "decimal - gamma\n",
      "2 - 010\n",
      "4 - 00100\n",
      "6 - 00110\n",
      "8 - 0001000\n",
      "10 - 0001010\n",
      "12 - 0001100\n",
      "14 - 0001110\n",
      "16 - 000010000\n",
      "18 - 000010010\n",
      "20 - 000010100\n"
     ]
    }
   ],
   "source": [
    "d1 ={}\n",
    "\n",
    "for i in range(1,21):\n",
    "    # storing even values gamma in dictionary \n",
    "    if(i%2 == 0):\n",
    "        d1[i] = elias_gamma_encode(i)\n",
    "        \n",
    "# printing elias gamma encoding values\n",
    "print(\"decimal -\", \"gamma\")\n",
    "for x,y in d1.items():\n",
    "    print(\"{0} - {1}\".format(x,y))"
   ]
  },
  {
   "cell_type": "code",
   "execution_count": 4,
   "id": "c312abdb",
   "metadata": {},
   "outputs": [
    {
     "name": "stdout",
     "output_type": "stream",
     "text": [
      "gamma - decimal\n",
      "010 - 2\n",
      "00100 - 4\n",
      "00110 - 6\n",
      "0001000 - 8\n",
      "0001010 - 10\n",
      "0001100 - 12\n",
      "0001110 - 14\n",
      "000010000 - 16\n",
      "000010010 - 18\n",
      "000010100 - 20\n"
     ]
    }
   ],
   "source": [
    "print(\"gamma -\", \"decimal\")\n",
    "for y in d1.values():\n",
    "    print(\"{0} - {1}\".format(y, elias_gamma_decode(y)))"
   ]
  },
  {
   "cell_type": "markdown",
   "id": "d368808f",
   "metadata": {},
   "source": [
    "# METHOD - 2"
   ]
  },
  {
   "cell_type": "code",
   "execution_count": 5,
   "id": "5044512d",
   "metadata": {},
   "outputs": [],
   "source": [
    "# Elias gamma ecnoding\n",
    "from math import log\n",
    "\n",
    "def gamma_encode(n):\n",
    "    \n",
    "    # convert n to bin\n",
    "    x = str(bin(n).replace(\"0b\", \"\"))\n",
    "    \n",
    "    # zeroes prepended\n",
    "    zeroes = len(x) - 1\n",
    "    \n",
    "    # gamma encoding\n",
    "    gamma_encode = \"0\"*zeroes + x\n",
    "    \n",
    "    return gamma_encode"
   ]
  },
  {
   "cell_type": "code",
   "execution_count": 6,
   "id": "d5a58fbf",
   "metadata": {},
   "outputs": [],
   "source": [
    "def gamma_decode(n):\n",
    "    k=0\n",
    "    i = len(n)\n",
    "    while(i!=0):\n",
    "        if(n[k] == \"1\"):\n",
    "            break\n",
    "        k = k+1\n",
    "        i = i-1\n",
    "        \n",
    "    b = n[k:2*k+1]\n",
    "    x = int(b, 2)\n",
    "    \n",
    "    return x\n"
   ]
  },
  {
   "cell_type": "code",
   "execution_count": 7,
   "id": "c59138a9",
   "metadata": {},
   "outputs": [
    {
     "name": "stdout",
     "output_type": "stream",
     "text": [
      "decimal - gamma\n",
      "2 - 010\n",
      "4 - 00100\n",
      "6 - 00110\n",
      "8 - 0001000\n",
      "10 - 0001010\n",
      "12 - 0001100\n",
      "14 - 0001110\n",
      "16 - 000010000\n",
      "18 - 000010010\n",
      "20 - 000010100\n"
     ]
    }
   ],
   "source": [
    "d1 ={}\n",
    "\n",
    "for i in range(1,21):\n",
    "    # storing even values gamma in dictionary \n",
    "    if(i%2 == 0):\n",
    "        d1[i] = gamma_encode(i)\n",
    "        \n",
    "# printing elias gamma encoding values\n",
    "print(\"decimal -\", \"gamma\")\n",
    "for x,y in d1.items():\n",
    "    print(\"{0} - {1}\".format(x,y))"
   ]
  },
  {
   "cell_type": "code",
   "execution_count": 8,
   "id": "e35100fa",
   "metadata": {},
   "outputs": [
    {
     "name": "stdout",
     "output_type": "stream",
     "text": [
      "gamma - decimal\n",
      "010 - 2\n",
      "00100 - 4\n",
      "00110 - 6\n",
      "0001000 - 8\n",
      "0001010 - 10\n",
      "0001100 - 12\n",
      "0001110 - 14\n",
      "000010000 - 16\n",
      "000010010 - 18\n",
      "000010100 - 20\n"
     ]
    }
   ],
   "source": [
    "print(\"gamma -\", \"decimal\")\n",
    "for y in d1.values():\n",
    "    print(\"{0} - {1}\".format(y, gamma_decode(y)))"
   ]
  },
  {
   "cell_type": "code",
   "execution_count": null,
   "id": "612cface",
   "metadata": {},
   "outputs": [],
   "source": []
  },
  {
   "cell_type": "code",
   "execution_count": null,
   "id": "7d73ba0b",
   "metadata": {},
   "outputs": [],
   "source": []
  },
  {
   "cell_type": "code",
   "execution_count": null,
   "id": "63800c3a",
   "metadata": {},
   "outputs": [],
   "source": []
  },
  {
   "cell_type": "code",
   "execution_count": null,
   "id": "55b8c08f",
   "metadata": {},
   "outputs": [],
   "source": []
  },
  {
   "cell_type": "code",
   "execution_count": null,
   "id": "d3373821",
   "metadata": {},
   "outputs": [],
   "source": []
  }
 ],
 "metadata": {
  "kernelspec": {
   "display_name": "Python 3",
   "language": "python",
   "name": "python3"
  },
  "language_info": {
   "codemirror_mode": {
    "name": "ipython",
    "version": 3
   },
   "file_extension": ".py",
   "mimetype": "text/x-python",
   "name": "python",
   "nbconvert_exporter": "python",
   "pygments_lexer": "ipython3",
   "version": "3.9.2"
  }
 },
 "nbformat": 4,
 "nbformat_minor": 5
}
