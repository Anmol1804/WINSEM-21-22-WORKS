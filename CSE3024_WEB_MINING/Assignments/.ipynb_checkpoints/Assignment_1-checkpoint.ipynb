{
 "cells": [
  {
   "cell_type": "code",
   "execution_count": 1,
   "id": "7f88aa81",
   "metadata": {},
   "outputs": [],
   "source": [
    "# impoting libraries\n",
    "import nltk\n",
    "\n",
    "from nltk.corpus import stopwords\n",
    "from nltk.tokenize import word_tokenize"
   ]
  },
  {
   "cell_type": "code",
   "execution_count": null,
   "id": "8454b33d",
   "metadata": {},
   "outputs": [],
   "source": [
    "# \n",
    "stopwords = (stopwords.words('english'))\n",
    "punctuation = '''!()-[]{};:'\"\\,<>./?@#$%^&*_~'''\n",
    "\n",
    "text = '''What is Web Mining? Web Mining is the process of \"Data Mining\" techniques, and extract information from Web documents and services. The main purpose of web mining is discovering useful information from the World-Wide Web and it's usage patterns'''\n"
   ]
  },
  {
   "cell_type": "code",
   "execution_count": null,
   "id": "6132e515",
   "metadata": {},
   "outputs": [],
   "source": [
    "text_tokens = word_tokenize(text)\n",
    "print(\"Word tokens : \", text_tokens, \"\\n\")"
   ]
  },
  {
   "cell_type": "code",
   "execution_count": null,
   "id": "86f2bca7",
   "metadata": {},
   "outputs": [],
   "source": [
    "sentence_tokens = nltk.sent_tokenize(text)\n",
    "print (\"Sentence tokens : \", sentence_tokens, \"\\n\")\n"
   ]
  },
  {
   "cell_type": "code",
   "execution_count": null,
   "id": "5d1799ea",
   "metadata": {},
   "outputs": [],
   "source": [
    "for ele in text:\n",
    "    if ele in punc:\n",
    "        text = text.replace(ele, \"\")\n",
    "\n",
    "text_tokens_new = word_tokenize(text)\n",
    "token_without_sw = [word for word in text_tokens_new if not word in all]\n",
    "print(token_without_sw)"
   ]
  }
 ],
 "metadata": {
  "kernelspec": {
   "display_name": "Python 3",
   "language": "python",
   "name": "python3"
  },
  "language_info": {
   "codemirror_mode": {
    "name": "ipython",
    "version": 3
   },
   "file_extension": ".py",
   "mimetype": "text/x-python",
   "name": "python",
   "nbconvert_exporter": "python",
   "pygments_lexer": "ipython3",
   "version": "3.9.2"
  }
 },
 "nbformat": 4,
 "nbformat_minor": 5
}
