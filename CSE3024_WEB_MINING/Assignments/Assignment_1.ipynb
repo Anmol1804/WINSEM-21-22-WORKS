{
 "cells": [
  {
   "cell_type": "code",
   "execution_count": 1,
   "id": "7f88aa81",
   "metadata": {},
   "outputs": [],
   "source": [
    "# impoting libraries\n",
    "import nltk\n",
    "\n",
    "from nltk.corpus import stopwords\n",
    "from nltk.tokenize import word_tokenize\n",
    "from nltk.tokenize import sent_tokenize"
   ]
  },
  {
   "cell_type": "code",
   "execution_count": 2,
   "id": "8454b33d",
   "metadata": {},
   "outputs": [],
   "source": [
    "# defining stopwords, punctuations and given text\n",
    "stopwords = (stopwords.words('english'))\n",
    "punctuations = '''!()-[]{};:'\"\\,<>./?@#$%^&*_~'''\n",
    "\n",
    "text = '''What is Web Mining? Web Mining is the process of \"Data Mining\" techniques, and extract information from Web documents and services. The main purpose of web mining is discovering useful information from the World-Wide Web and it's usage patterns'''\n"
   ]
  },
  {
   "cell_type": "code",
   "execution_count": 3,
   "id": "6132e515",
   "metadata": {},
   "outputs": [
    {
     "name": "stdout",
     "output_type": "stream",
     "text": [
      "['What', 'is', 'Web', 'Mining', '?', 'Web', 'Mining', 'is', 'the', 'process', 'of', '``', 'Data', 'Mining', \"''\", 'techniques', ',', 'and', 'extract', 'information', 'from', 'Web', 'documents', 'and', 'services', '.', 'The', 'main', 'purpose', 'of', 'web', 'mining', 'is', 'discovering', 'useful', 'information', 'from', 'the', 'World-Wide', 'Web', 'and', 'it', \"'s\", 'usage', 'patterns']\n"
     ]
    }
   ],
   "source": [
    "# word tokenization\n",
    "word_tokens = word_tokenize(text)\n",
    "print(word_tokens)"
   ]
  },
  {
   "cell_type": "code",
   "execution_count": 4,
   "id": "86f2bca7",
   "metadata": {},
   "outputs": [
    {
     "name": "stdout",
     "output_type": "stream",
     "text": [
      "['What is Web Mining?', 'Web Mining is the process of \"Data Mining\" techniques, and extract information from Web documents and services.', \"The main purpose of web mining is discovering useful information from the World-Wide Web and it's usage patterns\"]\n"
     ]
    }
   ],
   "source": [
    "# sentence tokenization\n",
    "sentence_tokens = sent_tokenize(text)\n",
    "print(sentence_tokens)"
   ]
  },
  {
   "cell_type": "code",
   "execution_count": 5,
   "id": "d7c033fd",
   "metadata": {},
   "outputs": [
    {
     "name": "stdout",
     "output_type": "stream",
     "text": [
      "['What', 'Web', 'Mining', 'Web', 'Mining', 'process', 'Data', 'Mining', 'techniques', 'extract', 'information', 'Web', 'documents', 'services', 'The', 'main', 'purpose', 'web', 'mining', 'discovering', 'useful', 'information', 'WorldWide', 'Web', 'usage', 'patterns']\n"
     ]
    }
   ],
   "source": [
    "# remove stop words & punctuation and list the words\n",
    "for ele in text:\n",
    "    if ele in punctuations:\n",
    "        text = text.replace(ele, \"\")\n",
    "\n",
    "word_token_without_punc = word_tokenize(text)\n",
    "token_without_sw = [word for word in word_token_without_punc if not word in stopwords]\n",
    "print(token_without_sw)"
   ]
  },
  {
   "cell_type": "code",
   "execution_count": null,
   "id": "24b86d3f",
   "metadata": {},
   "outputs": [],
   "source": []
  }
 ],
 "metadata": {
  "kernelspec": {
   "display_name": "Python 3",
   "language": "python",
   "name": "python3"
  },
  "language_info": {
   "codemirror_mode": {
    "name": "ipython",
    "version": 3
   },
   "file_extension": ".py",
   "mimetype": "text/x-python",
   "name": "python",
   "nbconvert_exporter": "python",
   "pygments_lexer": "ipython3",
   "version": "3.9.2"
  }
 },
 "nbformat": 4,
 "nbformat_minor": 5
}
