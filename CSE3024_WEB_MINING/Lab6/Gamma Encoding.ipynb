{
 "cells": [
  {
   "cell_type": "code",
   "execution_count": 21,
   "id": "6ba6f739",
   "metadata": {},
   "outputs": [],
   "source": [
    "# decimal to binary\n",
    "x = str(bin(16).replace(\"0b\", \"\"))"
   ]
  },
  {
   "cell_type": "code",
   "execution_count": 22,
   "id": "d7213775",
   "metadata": {},
   "outputs": [
    {
     "data": {
      "text/plain": [
       "str"
      ]
     },
     "execution_count": 22,
     "metadata": {},
     "output_type": "execute_result"
    }
   ],
   "source": [
    "type(x)"
   ]
  },
  {
   "cell_type": "code",
   "execution_count": 48,
   "id": "9448e2f6",
   "metadata": {},
   "outputs": [
    {
     "data": {
      "text/plain": [
       "'0001001'"
      ]
     },
     "execution_count": 48,
     "metadata": {},
     "output_type": "execute_result"
    }
   ],
   "source": [
    "# gamma\n",
    "from math import log\n",
    "n=9\n",
    "x = str(bin(n).replace(\"0b\", \"\"))\n",
    "\n",
    "zeroes = len(x) - 1\n",
    "gamma_encode = \"0\"*zeroes + x\n",
    "gamma_encode"
   ]
  },
  {
   "cell_type": "code",
   "execution_count": 35,
   "id": "b77b4f25",
   "metadata": {},
   "outputs": [
    {
     "name": "stdout",
     "output_type": "stream",
     "text": [
      "0001001\n"
     ]
    }
   ],
   "source": [
    "from math import log\n",
    "\n",
    "log2 = lambda x: log(x, 2)\n",
    "\n",
    "def Unary(x):\n",
    "    return (x-1)*'0'+'1'\n",
    "\n",
    "def Binary(x, l = 1):\n",
    "    s = '{0:0%db}' % l\n",
    "    return s.format(x)\n",
    "\n",
    "def Elias_Gamma(x):\n",
    "    if(x == 0):\n",
    "        return '0'\n",
    "\n",
    "    n = 1 + int(log2(x))\n",
    "    b = x - 2**(int(log2(x)))\n",
    "\n",
    "    l = int(log2(x))\n",
    "\n",
    "    return Unary(n) + Binary(b, l)\n",
    "    \n",
    "print(Elias_Gamma(9))\n"
   ]
  },
  {
   "cell_type": "code",
   "execution_count": 65,
   "id": "2ae31577",
   "metadata": {},
   "outputs": [
    {
     "name": "stdout",
     "output_type": "stream",
     "text": [
      "00100010\n"
     ]
    }
   ],
   "source": [
    "# delta coding\n",
    "from math import log\n",
    "num=10\n",
    "\n",
    "n = 1 + int(log(num,2))\n",
    "\n",
    "# gamma for x (selector)\n",
    "x = str(bin(n).replace(\"0b\", \"\"))\n",
    "zeroes = len(x) - 1\n",
    "gamma_encode = \"0\"*zeroes + x\n",
    "\n",
    "# offset\n",
    "num_bin = str(bin(num).replace(\"0b\", \"\"))\n",
    "offset = num_bin[1:]\n",
    "\n",
    "delta_encode = gamma_encode + offset\n",
    "print(delta_encode)"
   ]
  },
  {
   "cell_type": "code",
   "execution_count": null,
   "id": "3a5ade86",
   "metadata": {},
   "outputs": [],
   "source": []
  }
 ],
 "metadata": {
  "kernelspec": {
   "display_name": "Python 3",
   "language": "python",
   "name": "python3"
  },
  "language_info": {
   "codemirror_mode": {
    "name": "ipython",
    "version": 3
   },
   "file_extension": ".py",
   "mimetype": "text/x-python",
   "name": "python",
   "nbconvert_exporter": "python",
   "pygments_lexer": "ipython3",
   "version": "3.9.2"
  }
 },
 "nbformat": 4,
 "nbformat_minor": 5
}
