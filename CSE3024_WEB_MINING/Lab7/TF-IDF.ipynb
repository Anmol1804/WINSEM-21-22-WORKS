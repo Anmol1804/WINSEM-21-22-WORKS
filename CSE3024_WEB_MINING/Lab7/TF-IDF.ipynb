{
 "cells": [
  {
   "cell_type": "code",
   "execution_count": 4,
   "id": "caf5d86f",
   "metadata": {},
   "outputs": [
    {
     "name": "stdout",
     "output_type": "stream",
     "text": [
      "00100010\n"
     ]
    }
   ],
   "source": [
    "# delta coding\n",
    "from math import log\n",
    "\n",
    "def elias_delta(num):\n",
    "\n",
    "    n = 1 + int(log(num,2))\n",
    "\n",
    "    # gamma for x (selector)\n",
    "    x = str(bin(n).replace(\"0b\", \"\"))\n",
    "    zeroes = len(x) - 1\n",
    "    gamma_encode = \"0\"*zeroes + x\n",
    "\n",
    "    # offset\n",
    "    num_bin = str(bin(num).replace(\"0b\", \"\"))\n",
    "    offset = num_bin[1:]\n",
    "\n",
    "    delta_encode = gamma_encode + offset\n",
    "    return delta_encode\n",
    "\n",
    "print(elias_delta(10))"
   ]
  },
  {
   "cell_type": "code",
   "execution_count": 17,
   "id": "0ddd78db",
   "metadata": {},
   "outputs": [
    {
     "name": "stdout",
     "output_type": "stream",
     "text": [
      "01 2\n",
      "001 3\n",
      "00001 5\n",
      "0000001 7\n",
      "00000000001 11\n",
      "0000000000001 13\n",
      "00000000000000001 17\n",
      "0000000000000000001 19\n",
      "00000000000000000000001 23\n",
      "00000000000000000000000000001 29\n",
      "0000000000000000000000000000001 31\n",
      "0000000000000000000000000000000000001 37\n",
      "00000000000000000000000000000000000000001 41\n",
      "0000000000000000000000000000000000000000001 43\n",
      "00000000000000000000000000000000000000000000001 47\n",
      "00000000000000000000000000000000000000000000000000001 53\n",
      "00000000000000000000000000000000000000000000000000000000001 59\n",
      "0000000000000000000000000000000000000000000000000000000000001 61\n",
      "0000000000000000000000000000000000000000000000000000000000000000001 67\n",
      "00000000000000000000000000000000000000000000000000000000000000000000001 71\n",
      "0000000000000000000000000000000000000000000000000000000000000000000000001 73\n",
      "0000000000000000000000000000000000000000000000000000000000000000000000000000001 79\n",
      "00000000000000000000000000000000000000000000000000000000000000000000000000000000001 83\n",
      "00000000000000000000000000000000000000000000000000000000000000000000000000000000000000001 89\n",
      "0000000000000000000000000000000000000000000000000000000000000000000000000000000000000000000000001 97\n"
     ]
    }
   ],
   "source": [
    "# unary coding\n",
    "from math import sqrt\n",
    "def unary_code(n):\n",
    "    code = \"0\"*(n-1) + \"1\";\n",
    "    return code\n",
    "\n",
    "def prime(n):\n",
    "    if(n==1):\n",
    "        return False\n",
    "    \n",
    "    for i in range(2, int(sqrt(n)) + 1):\n",
    "        if (n % i == 0):\n",
    "            return False\n",
    "    \n",
    "    return True\n",
    "\n",
    "ls =[]\n",
    "for i in range(1,101):\n",
    "    if(prime(i)):\n",
    "        ls.append(unary_code(i))\n",
    "        \n",
    "def decode_unary(n):\n",
    "    return (n.count('0') + 1)\n",
    "\n",
    "for x in ls:\n",
    "    print(x,decode_unary(x))"
   ]
  },
  {
   "cell_type": "code",
   "execution_count": 14,
   "id": "a30f6129",
   "metadata": {},
   "outputs": [
    {
     "name": "stdout",
     "output_type": "stream",
     "text": [
      "3\n"
     ]
    }
   ],
   "source": []
  },
  {
   "cell_type": "code",
   "execution_count": null,
   "id": "94b9a60d",
   "metadata": {},
   "outputs": [],
   "source": []
  }
 ],
 "metadata": {
  "kernelspec": {
   "display_name": "Python 3",
   "language": "python",
   "name": "python3"
  },
  "language_info": {
   "codemirror_mode": {
    "name": "ipython",
    "version": 3
   },
   "file_extension": ".py",
   "mimetype": "text/x-python",
   "name": "python",
   "nbconvert_exporter": "python",
   "pygments_lexer": "ipython3",
   "version": "3.9.2"
  }
 },
 "nbformat": 4,
 "nbformat_minor": 5
}
