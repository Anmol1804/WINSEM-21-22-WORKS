{
 "cells": [
  {
   "cell_type": "code",
   "execution_count": 14,
   "id": "b70dea7c",
   "metadata": {},
   "outputs": [],
   "source": [
    "# Elias gamma ecnoding\n",
    "from math import log\n",
    "\n",
    "def gamma_encode(n):\n",
    "    \n",
    "    # convert n to bin\n",
    "    x = str(bin(n).replace(\"0b\", \"\"))\n",
    "    \n",
    "    # zeroes prepended\n",
    "    zeroes = len(x) - 1\n",
    "    \n",
    "    # gamma encoding\n",
    "    gamma_encode = \"0\"*zeroes + x\n",
    "    \n",
    "    return gamma_encode\n"
   ]
  },
  {
   "cell_type": "code",
   "execution_count": 16,
   "id": "acbc1049",
   "metadata": {},
   "outputs": [],
   "source": [
    "from math import log\n",
    "from math import floor\n",
    "\n",
    "def Binary_Representation_Without_MSB(x):\n",
    "    binary = \"{0:b}\".format(int(x))\n",
    "    binary_without_MSB = binary[1:]\n",
    "    return binary_without_MSB\n",
    "\n",
    "def EliasGammaEncode(k):\n",
    "    if (k == 0):\n",
    "        return '0'\n",
    "    N = 1 + floor(log(k, 2))\n",
    "    Unary = (N-1)*'0'+'1'\n",
    "    return Unary + Binary_Representation_Without_MSB(k)\n",
    "\n",
    "def elias_delta_encoding(x):\n",
    "    Gamma = EliasGammaEncode(1 + floor(log(k, 2)))\n",
    "    binary_without_MSB = Binary_Representation_Without_MSB(k)\n",
    "    return Gamma+binary_without_MSB\n"
   ]
  },
  {
   "cell_type": "code",
   "execution_count": 4,
   "id": "eb9e6e04",
   "metadata": {},
   "outputs": [],
   "source": [
    "# golomg\n",
    "\n",
    "import math\n",
    "\n",
    "def golomb(N,M):\n",
    "    q = N//M\n",
    "    r = N % M\n",
    "\n",
    "    quo ='0'*q+'1'\n",
    "\n",
    "    b = math.floor(math.log2(M))\n",
    "    k = 2**(b + 1)-M\n",
    "\n",
    "    if r < k:\n",
    "        rem = bin(r)[2:]\n",
    "        l = len(rem)\n",
    "\n",
    "        if l<b:\n",
    "            rem = '0'*(b-l)+rem\n",
    "    else:\n",
    "        rem = bin(r + k)[2:]\n",
    "        l = len(rem)\n",
    "        if l<b + 1:\n",
    "            rem = '0'*(b + 1-l)+rem\n",
    "    golomb_code = quo + rem\n",
    "    \n",
    "    return golomb_code\n"
   ]
  },
  {
   "cell_type": "code",
   "execution_count": 13,
   "id": "b13768a7",
   "metadata": {},
   "outputs": [
    {
     "name": "stdout",
     "output_type": "stream",
     "text": [
      "Encoding for 1 in Elias gamma is 1, Elias Delta is 1 and golomb is 1001\n",
      "Encoding for 3 in Elias gamma is 011, Elias Delta is 0101 and golomb is 1011\n",
      "Encoding for 5 in Elias gamma is 00101, Elias Delta is 01101 and golomb is 1101\n",
      "Encoding for 7 in Elias gamma is 00111, Elias Delta is 01111 and golomb is 11101\n",
      "Encoding for 9 in Elias gamma is 0001001, Elias Delta is 00100001 and golomb is 11111\n",
      "Encoding for 11 in Elias gamma is 0001011, Elias Delta is 00100011 and golomb is 01001\n",
      "Encoding for 13 in Elias gamma is 0001101, Elias Delta is 00100101 and golomb is 01011\n",
      "Encoding for 15 in Elias gamma is 0001111, Elias Delta is 00100111 and golomb is 01101\n",
      "Encoding for 17 in Elias gamma is 000010001, Elias Delta is 001010001 and golomb is 011101\n",
      "Encoding for 19 in Elias gamma is 000010011, Elias Delta is 001010011 and golomb is 011111\n",
      "Encoding for 21 in Elias gamma is 000010101, Elias Delta is 001010101 and golomb is 001001\n",
      "Encoding for 23 in Elias gamma is 000010111, Elias Delta is 001010111 and golomb is 001011\n",
      "Encoding for 25 in Elias gamma is 000011001, Elias Delta is 001011001 and golomb is 001101\n",
      "Encoding for 27 in Elias gamma is 000011011, Elias Delta is 001011011 and golomb is 0011101\n",
      "Encoding for 29 in Elias gamma is 000011101, Elias Delta is 001011101 and golomb is 0011111\n",
      "Encoding for 31 in Elias gamma is 000011111, Elias Delta is 001011111 and golomb is 0001001\n",
      "Encoding for 33 in Elias gamma is 00000100001, Elias Delta is 0011000001 and golomb is 0001011\n",
      "Encoding for 35 in Elias gamma is 00000100011, Elias Delta is 0011000011 and golomb is 0001101\n",
      "Encoding for 37 in Elias gamma is 00000100101, Elias Delta is 0011000101 and golomb is 00011101\n",
      "Encoding for 39 in Elias gamma is 00000100111, Elias Delta is 0011000111 and golomb is 00011111\n"
     ]
    }
   ],
   "source": [
    "for i in range(1,40):\n",
    "    if(i%2 != 0):\n",
    "        k=i\n",
    "        print(\"Encoding for {} in Elias gamma is {}, Elias Delta is {} and golomb is {}\".format(i, EliasGammaEncode(i), EliasDeltaEncode(i), golomb(i,10)))"
   ]
  },
  {
   "cell_type": "code",
   "execution_count": 9,
   "id": "3ca0b0dd",
   "metadata": {},
   "outputs": [
    {
     "data": {
      "text/plain": [
       "'0001010'"
      ]
     },
     "execution_count": 9,
     "metadata": {},
     "output_type": "execute_result"
    }
   ],
   "source": [
    "EliasGammaEncode(10)"
   ]
  },
  {
   "cell_type": "code",
   "execution_count": 15,
   "id": "6e8d0510",
   "metadata": {},
   "outputs": [
    {
     "name": "stdout",
     "output_type": "stream",
     "text": [
      "Encoding for 1 in Elias gamma is 1, Elias Delta is 1 and golomb is 1001\n",
      "Encoding for 3 in Elias gamma is 011, Elias Delta is 0101 and golomb is 1011\n",
      "Encoding for 5 in Elias gamma is 00101, Elias Delta is 01101 and golomb is 1101\n",
      "Encoding for 7 in Elias gamma is 00111, Elias Delta is 01111 and golomb is 11101\n",
      "Encoding for 9 in Elias gamma is 0001001, Elias Delta is 00100001 and golomb is 11111\n",
      "Encoding for 11 in Elias gamma is 0001011, Elias Delta is 00100011 and golomb is 01001\n",
      "Encoding for 13 in Elias gamma is 0001101, Elias Delta is 00100101 and golomb is 01011\n",
      "Encoding for 15 in Elias gamma is 0001111, Elias Delta is 00100111 and golomb is 01101\n",
      "Encoding for 17 in Elias gamma is 000010001, Elias Delta is 001010001 and golomb is 011101\n",
      "Encoding for 19 in Elias gamma is 000010011, Elias Delta is 001010011 and golomb is 011111\n",
      "Encoding for 21 in Elias gamma is 000010101, Elias Delta is 001010101 and golomb is 001001\n",
      "Encoding for 23 in Elias gamma is 000010111, Elias Delta is 001010111 and golomb is 001011\n",
      "Encoding for 25 in Elias gamma is 000011001, Elias Delta is 001011001 and golomb is 001101\n",
      "Encoding for 27 in Elias gamma is 000011011, Elias Delta is 001011011 and golomb is 0011101\n",
      "Encoding for 29 in Elias gamma is 000011101, Elias Delta is 001011101 and golomb is 0011111\n",
      "Encoding for 31 in Elias gamma is 000011111, Elias Delta is 001011111 and golomb is 0001001\n",
      "Encoding for 33 in Elias gamma is 00000100001, Elias Delta is 0011000001 and golomb is 0001011\n",
      "Encoding for 35 in Elias gamma is 00000100011, Elias Delta is 0011000011 and golomb is 0001101\n",
      "Encoding for 37 in Elias gamma is 00000100101, Elias Delta is 0011000101 and golomb is 00011101\n",
      "Encoding for 39 in Elias gamma is 00000100111, Elias Delta is 0011000111 and golomb is 00011111\n"
     ]
    }
   ],
   "source": [
    "for i in range(1,40):\n",
    "    if(i%2 != 0):\n",
    "        k=i\n",
    "        print(\"Encoding for {} in Elias gamma is {}, Elias Delta is {} and golomb is {}\".format(i, gamma_encode(i), EliasDeltaEncode(i), golomb(i,10)))"
   ]
  },
  {
   "cell_type": "code",
   "execution_count": null,
   "id": "2df66124",
   "metadata": {},
   "outputs": [],
   "source": []
  }
 ],
 "metadata": {
  "kernelspec": {
   "display_name": "Python 3",
   "language": "python",
   "name": "python3"
  },
  "language_info": {
   "codemirror_mode": {
    "name": "ipython",
    "version": 3
   },
   "file_extension": ".py",
   "mimetype": "text/x-python",
   "name": "python",
   "nbconvert_exporter": "python",
   "pygments_lexer": "ipython3",
   "version": "3.9.2"
  }
 },
 "nbformat": 4,
 "nbformat_minor": 5
}
